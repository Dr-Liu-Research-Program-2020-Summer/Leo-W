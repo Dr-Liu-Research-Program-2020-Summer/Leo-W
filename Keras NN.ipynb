{
 "cells": [
  {
   "cell_type": "code",
   "execution_count": 1,
   "metadata": {},
   "outputs": [],
   "source": [
    "import glob\n",
    "import pandas as pd\n",
    "import numpy\n",
    "from numpy import loadtxt\n",
    "import keras\n",
    "from keras.models import Sequential\n",
    "from keras.layers import Dense"
   ]
  },
  {
   "cell_type": "code",
   "execution_count": 2,
   "metadata": {},
   "outputs": [],
   "source": [
    "# load the dataset\n",
    "dataset = loadtxt('ADP.csv', delimiter=',')"
   ]
  },
  {
   "cell_type": "code",
   "execution_count": 3,
   "metadata": {},
   "outputs": [],
   "source": [
    "# split into input (X) and output (y) variables\n",
    "X = dataset[:,0:6]\n",
    "y = dataset[:,6]"
   ]
  },
  {
   "cell_type": "code",
   "execution_count": 4,
   "metadata": {},
   "outputs": [],
   "source": [
    "model = Sequential()\n",
    "model.add(Dense(128, activation='relu'))\n",
    "model.add(Dense(64, activation='relu'))\n",
    "model.add(Dense(32, activation='relu'))\n",
    "model.add(Dense(1, activation='sigmoid'))"
   ]
  },
  {
   "cell_type": "code",
   "execution_count": 7,
   "metadata": {
    "scrolled": false
   },
   "outputs": [
    {
     "name": "stdout",
     "output_type": "stream",
     "text": [
      "Epoch 1/10\n",
      "10/10 [==============================] - 0s 19ms/step - loss: 2.3815 - accuracy: 0.8237\n",
      "Epoch 2/10\n",
      "10/10 [==============================] - 0s 18ms/step - loss: 0.9593 - accuracy: 0.8657\n",
      "Epoch 3/10\n",
      "10/10 [==============================] - 0s 23ms/step - loss: 0.6138 - accuracy: 0.8853\n",
      "Epoch 4/10\n",
      "10/10 [==============================] - 0s 21ms/step - loss: 0.3822 - accuracy: 0.8996\n",
      "Epoch 5/10\n",
      "10/10 [==============================] - 0s 19ms/step - loss: 0.2670 - accuracy: 0.9025\n",
      "Epoch 6/10\n",
      "10/10 [==============================] - 0s 25ms/step - loss: 0.2280 - accuracy: 0.9145\n",
      "Epoch 7/10\n",
      "10/10 [==============================] - 0s 20ms/step - loss: 0.2105 - accuracy: 0.9171\n",
      "Epoch 8/10\n",
      "10/10 [==============================] - 0s 18ms/step - loss: 0.2010 - accuracy: 0.9241\n",
      "Epoch 9/10\n",
      "10/10 [==============================] - 0s 16ms/step - loss: 0.1966 - accuracy: 0.9262\n",
      "Epoch 10/10\n",
      "10/10 [==============================] - 0s 18ms/step - loss: 0.1929 - accuracy: 0.9267\n"
     ]
    },
    {
     "data": {
      "text/plain": [
       "<tensorflow.python.keras.callbacks.History at 0x22287938388>"
      ]
     },
     "execution_count": 7,
     "metadata": {},
     "output_type": "execute_result"
    }
   ],
   "source": [
    "# define the keras model\n",
    "# compile the keras model\n",
    "model.compile(loss='binary_crossentropy', optimizer='adam', metrics=['accuracy'])\n",
    "# fit the keras model on the dataset\n",
    "model.fit(X, y, epochs=10, batch_size=1729*10)\n",
    "# evaluate the keras model"
   ]
  },
  {
   "cell_type": "code",
   "execution_count": 8,
   "metadata": {},
   "outputs": [
    {
     "name": "stdout",
     "output_type": "stream",
     "text": [
      "5404/5404 [==============================] - 3s 641us/step - loss: 0.1905 - accuracy: 0.9268\n",
      "Accuracy: 92.68\n"
     ]
    }
   ],
   "source": [
    "_, accuracy = model.evaluate(X, y)\n",
    "print('Accuracy: %.2f' % (accuracy*100))"
   ]
  }
 ],
 "metadata": {
  "kernelspec": {
   "display_name": "Python 3",
   "language": "python",
   "name": "python3"
  },
  "language_info": {
   "codemirror_mode": {
    "name": "ipython",
    "version": 3
   },
   "file_extension": ".py",
   "mimetype": "text/x-python",
   "name": "python",
   "nbconvert_exporter": "python",
   "pygments_lexer": "ipython3",
   "version": "3.7.4"
  }
 },
 "nbformat": 4,
 "nbformat_minor": 2
}
